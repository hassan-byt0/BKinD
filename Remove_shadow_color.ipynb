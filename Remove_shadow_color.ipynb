{
  "nbformat": 4,
  "nbformat_minor": 0,
  "metadata": {
    "colab": {
      "provenance": []
    },
    "kernelspec": {
      "name": "python3",
      "display_name": "Python 3"
    },
    "language_info": {
      "name": "python"
    }
  },
  "cells": [
    {
      "cell_type": "code",
      "source": [
        "from google.colab import drive\n",
        "drive.mount('/content/drive')\n"
      ],
      "metadata": {
        "colab": {
          "base_uri": "https://localhost:8080/"
        },
        "id": "vPJMz39e3aLF",
        "outputId": "71ac3928-23f8-469e-96ae-b35246942826"
      },
      "execution_count": null,
      "outputs": [
        {
          "output_type": "stream",
          "name": "stdout",
          "text": [
            "Drive already mounted at /content/drive; to attempt to forcibly remount, call drive.mount(\"/content/drive\", force_remount=True).\n"
          ]
        }
      ]
    },
    {
      "cell_type": "code",
      "source": [
        "\n",
        "# Specify the folder containing images\n",
        "input_folder = \"/content/drive/MyDrive/Dataset/Custom_dataset_IN/custom_dataset\"\n",
        "\n",
        "# Specify the output folder for processed images\n",
        "output_folder = \"/content/drive/MyDrive/Dataset/Custom_dataset_OUT\""
      ],
      "metadata": {
        "id": "xHJNeCMt_Lb7"
      },
      "execution_count": null,
      "outputs": []
    },
    {
      "cell_type": "code",
      "source": [
        "import cv2\n",
        "import numpy as np\n",
        "import os\n",
        "\n",
        "def remove_shadows_color(input_folder, output_folder, pen_color_lower, pen_color_upper):\n",
        "    # Create the output folder if it doesn't exist\n",
        "    if not os.path.exists(output_folder):\n",
        "        os.makedirs(output_folder)\n",
        "\n",
        "    # List all files in the input folder\n",
        "    image_files = [f for f in os.listdir(input_folder) if f.endswith(('.jpg', '.jpeg', '.png'))]\n",
        "\n",
        "    for image_file in image_files:\n",
        "        # Construct the full path for the input and output images\n",
        "        input_path = os.path.join(input_folder, image_file)\n",
        "        output_path = os.path.join(output_folder, image_file)\n",
        "\n",
        "        # Read the image\n",
        "        image = cv2.imread(input_path)\n",
        "\n",
        "        # Convert the image to the HSV color space\n",
        "        hsv = cv2.cvtColor(image, cv2.COLOR_BGR2HSV)\n",
        "\n",
        "        # Define the color range\n",
        "        lower_bound = np.array(color_lower, dtype=np.uint8)\n",
        "        upper_bound = np.array(color_upper, dtype=np.uint8)\n",
        "\n",
        "        # Create a mask using the inRange function to extract the color of our object\n",
        "        mask = cv2.inRange(hsv, lower_bound, upper_bound)\n",
        "\n",
        "        # Bitwise AND the original image with the mask to keep only the pen color\n",
        "        result = cv2.bitwise_and(image, image, mask=mask)\n",
        "\n",
        "        # Save the output image\n",
        "        cv2.imwrite(output_path, result)\n",
        "\n",
        "if __name__ == \"__main__\":\n",
        "\n",
        "\n",
        "    # Define the HSV color range for the color of object\n",
        "    color_lower = [90, 50, 50]  # Lower bound for blue color in HSV\n",
        "    color_upper = [130, 255, 255]  # Upper bound for blue color in HSV\n",
        "\n",
        "    remove_shadows_color(input_folder, output_folder, color_lower, color_upper)\n"
      ],
      "metadata": {
        "id": "lRtmRAtAFpvI"
      },
      "execution_count": null,
      "outputs": []
    }
  ]
}